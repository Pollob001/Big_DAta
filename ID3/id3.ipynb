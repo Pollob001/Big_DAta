{
 "cells": [
  {
   "cell_type": "code",
   "execution_count": 2,
   "metadata": {},
   "outputs": [
    {
     "name": "stdout",
     "output_type": "stream",
     "text": [
      "    Unnamed: 0 PlayTennis   Outlook Temperature Humidity    Wind\n",
      "0            0         No     Sunny         Hot     High    Weak\n",
      "1            1         No     Sunny         Hot     High  Strong\n",
      "2            2        Yes  Overcast         Hot     High    Weak\n",
      "3            3        Yes      Rain        Mild     High    Weak\n",
      "4            4        Yes      Rain        Cool   Normal    Weak\n",
      "5            5         No      Rain        Cool   Normal  Strong\n",
      "6            6        Yes  Overcast        Cool   Normal  Strong\n",
      "7            7         No     Sunny        Mild     High    Weak\n",
      "8            8        Yes     Sunny        Cool   Normal    Weak\n",
      "9            9        Yes      Rain        Mild   Normal    Weak\n",
      "10          10        Yes     Sunny        Mild   Normal  Strong\n",
      "11          11        Yes  Overcast        Mild     High  Strong\n",
      "12          12        Yes  Overcast         Hot   Normal    Weak\n",
      "13          13         No      Rain        Mild     High  Strong\n"
     ]
    }
   ],
   "source": [
    "import pandas as pd\n",
    "import numpy as np\n",
    "import math\n",
    "df=pd.read_csv(\"PlayTennis.csv\")\n",
    "print(df)"
   ]
  },
  {
   "cell_type": "code",
   "execution_count": 3,
   "metadata": {},
   "outputs": [],
   "source": [
    "def entropy(db):\n",
    "    ent=0\n",
    "    tc=db[db.columns[-1]].value_counts()\n",
    "    for i in range(tc.size):\n",
    "        pi=tc[i]/len(db)\n",
    "        ent=ent-pi*math.log2(pi)\n",
    "    return ent"
   ]
  },
  {
   "cell_type": "code",
   "execution_count": 4,
   "metadata": {},
   "outputs": [
    {
     "data": {
      "text/plain": [
       "0.9852281360342516"
      ]
     },
     "execution_count": 4,
     "metadata": {},
     "output_type": "execute_result"
    }
   ],
   "source": [
    "entropy(df)"
   ]
  },
  {
   "cell_type": "code",
   "execution_count": 5,
   "metadata": {},
   "outputs": [],
   "source": [
    "def gain(db):\n",
    "    gn=[0]*(len(db.columns)-1)\n",
    "    for ci in range(1,len(db.columns)-1):\n",
    "        gn[ci]=entropy(db)\n",
    "        cv=db[db.columns[ci]].value_counts()\n",
    "        for val in range(len(cv)):\n",
    "            mdb=db[db[db.columns[ci]]==cv.index[val]]\n",
    "            gn[ci]=gn[ci]-(cv[val]/len(db))*entropy(mdb)\n",
    "            #print(mdb)\n",
    "            #print('Entropy=',cv.index[val],' = ',entropy(mdb))\n",
    "        #print('Gain ',db.columns[ci],' = ',gn[ci])\n",
    "    return gn.index(max(gn))"
   ]
  },
  {
   "cell_type": "code",
   "execution_count": 6,
   "metadata": {},
   "outputs": [
    {
     "name": "stdout",
     "output_type": "stream",
     "text": [
      "1\n"
     ]
    }
   ],
   "source": [
    "print(gain(df))"
   ]
  },
  {
   "cell_type": "code",
   "execution_count": 7,
   "metadata": {},
   "outputs": [],
   "source": [
    "def id(cur,depth):\n",
    "    if entropy(cur)!=0:\n",
    "        spc=gain(cur)\n",
    "        print('\\t'*depth,'Splitting along ',cur.columns[spc])\n",
    "        cv=cur[cur.columns[spc]].value_counts()\n",
    "        for val in range(len(cv)):\n",
    "            mdb=cur[cur[cur.columns[spc]]==cv.index[val]]#.pop(cur.columns[spc])\n",
    "            print('\\t'*depth,'#',cv.index[val])#,'\\n',mdb)\n",
    "            id(mdb,depth+1)\n",
    "    else:\n",
    "        print('\\t'*depth,'Entropy is zero.')"
   ]
  },
  {
   "cell_type": "code",
   "execution_count": 8,
   "metadata": {},
   "outputs": [
    {
     "name": "stdout",
     "output_type": "stream",
     "text": [
      " Splitting along  PlayTennis\n",
      " # Yes\n",
      "\t Splitting along  Outlook\n",
      "\t # Overcast\n",
      "\t\t Splitting along  Temperature\n",
      "\t\t # Hot\n",
      "\t\t\t Entropy is zero.\n",
      "\t\t # Cool\n",
      "\t\t\t Entropy is zero.\n",
      "\t\t # Mild\n",
      "\t\t\t Entropy is zero.\n",
      "\t # Rain\n",
      "\t\t Entropy is zero.\n",
      "\t # Sunny\n",
      "\t\t Splitting along  Temperature\n",
      "\t\t # Mild\n",
      "\t\t\t Entropy is zero.\n",
      "\t\t # Cool\n",
      "\t\t\t Entropy is zero.\n",
      " # No\n",
      "\t Splitting along  Outlook\n",
      "\t # Sunny\n",
      "\t\t Splitting along  Temperature\n",
      "\t\t # Hot\n",
      "\t\t\t Splitting along  Unnamed: 0\n",
      "\t\t\t # 1\n",
      "\t\t\t\t Entropy is zero.\n",
      "\t\t\t # 0\n",
      "\t\t\t\t Entropy is zero.\n",
      "\t\t # Mild\n",
      "\t\t\t Entropy is zero.\n",
      "\t # Rain\n",
      "\t\t Entropy is zero.\n"
     ]
    }
   ],
   "source": [
    "id(df,0)"
   ]
  },
  {
   "cell_type": "code",
   "execution_count": null,
   "metadata": {},
   "outputs": [],
   "source": []
  }
 ],
 "metadata": {
  "kernelspec": {
   "display_name": "Python 3",
   "language": "python",
   "name": "python3"
  },
  "language_info": {
   "codemirror_mode": {
    "name": "ipython",
    "version": 3
   },
   "file_extension": ".py",
   "mimetype": "text/x-python",
   "name": "python",
   "nbconvert_exporter": "python",
   "pygments_lexer": "ipython3",
   "version": "3.8.5"
  }
 },
 "nbformat": 4,
 "nbformat_minor": 4
}
